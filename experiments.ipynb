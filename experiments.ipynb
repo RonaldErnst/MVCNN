{
 "cells": [
  {
   "cell_type": "code",
   "execution_count": 2,
   "metadata": {},
   "outputs": [],
   "source": [
    "import torch\n",
    "import numpy as np\n",
    "import torch.nn as nn\n",
    "from torch.autograd import Variable\n",
    "import torchvision.models as models"
   ]
  },
  {
   "cell_type": "code",
   "execution_count": 3,
   "metadata": {},
   "outputs": [],
   "source": [
    "def summarize_model(model):\n",
    "    layers = [(name if len(name) > 0 else 'TOTAL', str(module.__class__.__name__), sum(np.prod(p.shape) for p in module.parameters())) for name, module in model.named_modules()]\n",
    "    layers.append(layers[0])\n",
    "    del layers[0]\n",
    "\n",
    "    columns = [\n",
    "        [\" \", list(map(str, range(len(layers))))],\n",
    "        [\"Name\", [layer[0] for layer in layers]],\n",
    "        [\"Type\", [layer[1] for layer in layers]],\n",
    "        [\"Params\", [layer[2] for layer in layers]],\n",
    "    ]\n",
    "\n",
    "    n_rows = len(columns[0][1])\n",
    "    n_cols = 1 + len(columns)\n",
    "\n",
    "    # Get formatting width of each column\n",
    "    col_widths = []\n",
    "    for c in columns:\n",
    "        col_width = max(len(str(a)) for a in c[1]) if n_rows else 0\n",
    "        col_width = max(col_width, len(c[0]))  # minimum length is header length\n",
    "        col_widths.append(col_width)\n",
    "\n",
    "    # Formatting\n",
    "    s = \"{:<{}}\"\n",
    "    total_width = sum(col_widths) + 3 * n_cols\n",
    "    header = [s.format(c[0], l) for c, l in zip(columns, col_widths)]\n",
    "\n",
    "    summary = \" | \".join(header) + \"\\n\" + \"-\" * total_width\n",
    "    for i in range(n_rows):\n",
    "        line = []\n",
    "        for c, l in zip(columns, col_widths):\n",
    "            line.append(s.format(str(c[1][i]), l))\n",
    "        summary += \"\\n\" + \" | \".join(line)\n",
    "\n",
    "    return summary"
   ]
  },
  {
   "cell_type": "code",
   "execution_count": 4,
   "metadata": {},
   "outputs": [
    {
     "name": "stdout",
     "output_type": "stream",
     "text": [
      "Number of traininable params: 51.67M\n"
     ]
    }
   ],
   "source": [
    "net = models.convnext_tiny(pretrained=True)\n",
    "last_layer = net.classifier._modules[\"2\"]\n",
    "in_features = net.classifier._modules[\"2\"].in_features\n",
    "net.classifier._modules[\"2\"] = nn.Sequential(\n",
    "    nn.Linear(in_features, 4096),\n",
    "    nn.ReLU(),\n",
    "    nn.Linear(4096, 4096),\n",
    "    nn.ReLU(),\n",
    "    nn.Linear(4096, in_features),\n",
    "    nn.ReLU(),\n",
    "    last_layer,\n",
    ")\n",
    "num_trainable_params = sum(p.numel() for p in net.parameters() if p.requires_grad) / 1e6\n",
    "print(f'Number of traininable params: {num_trainable_params:.2f}M')  # expected output: ~16M"
   ]
  },
  {
   "cell_type": "code",
   "execution_count": 7,
   "metadata": {},
   "outputs": [
    {
     "name": "stderr",
     "output_type": "stream",
     "text": [
      "Downloading: \"https://download.pytorch.org/models/alexnet-owt-7be5be79.pth\" to /home/ingo/.cache/torch/hub/checkpoints/alexnet-owt-7be5be79.pth\n",
      "100.0%\n"
     ]
    },
    {
     "name": "stdout",
     "output_type": "stream",
     "text": [
      "Number of traininable params: 57.17M\n"
     ]
    }
   ],
   "source": [
    "net_1 = models.alexnet(pretrained=True).features\n",
    "net_2 = models.alexnet(pretrained=True).classifier\n",
    "net_2._modules[\"6\"] = nn.Linear(4096, 40)\n",
    "num_trainable_params = sum(p.numel() for p in net_1.parameters() if p.requires_grad) / 1e6\n",
    "num_trainable_params2 = sum(p.numel() for p in net_2.parameters() if p.requires_grad) / 1e6\n",
    "print(f'Number of traininable params: {num_trainable_params+num_trainable_params2:.2f}M')  # expected output: ~16M"
   ]
  },
  {
   "cell_type": "code",
   "execution_count": null,
   "metadata": {},
   "outputs": [],
   "source": [
    "\n",
    "                "
   ]
  }
 ],
 "metadata": {
  "kernelspec": {
   "display_name": "Python 3.10.4 ('mvcnn')",
   "language": "python",
   "name": "python3"
  },
  "language_info": {
   "codemirror_mode": {
    "name": "ipython",
    "version": 3
   },
   "file_extension": ".py",
   "mimetype": "text/x-python",
   "name": "python",
   "nbconvert_exporter": "python",
   "pygments_lexer": "ipython3",
   "version": "3.10.4"
  },
  "orig_nbformat": 4,
  "vscode": {
   "interpreter": {
    "hash": "ee7b5905b4eff62dca4a74f5ccded355231bb650bc3758f08e9e1787e8130e0d"
   }
  }
 },
 "nbformat": 4,
 "nbformat_minor": 2
}
